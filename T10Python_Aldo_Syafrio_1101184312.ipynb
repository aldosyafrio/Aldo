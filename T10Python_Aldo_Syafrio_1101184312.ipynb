{
  "nbformat": 4,
  "nbformat_minor": 0,
  "metadata": {
    "colab": {
      "name": "T10Python_Aldo Syafrio_1101184312.ipynb",
      "provenance": [],
      "collapsed_sections": [],
      "mount_file_id": "1vnr0dX-JrzkebAmJOipCaXP2VOembi40",
      "authorship_tag": "ABX9TyNICKeW5USSd+VA5Zp3eVCs",
      "include_colab_link": true
    },
    "kernelspec": {
      "display_name": "Python 3",
      "name": "python3"
    }
  },
  "cells": [
    {
      "cell_type": "markdown",
      "metadata": {
        "id": "view-in-github",
        "colab_type": "text"
      },
      "source": [
        "<a href=\"https://colab.research.google.com/github/aldosyafrio/Aldo/blob/main/T10Python_Aldo_Syafrio_1101184312.ipynb\" target=\"_parent\"><img src=\"https://colab.research.google.com/assets/colab-badge.svg\" alt=\"Open In Colab\"/></a>"
      ]
    },
    {
      "cell_type": "code",
      "metadata": {
        "colab": {
          "base_uri": "https://localhost:8080/"
        },
        "id": "xv_H1UeETKMw",
        "outputId": "5480778c-83fa-4d5b-8222-568bea501845"
      },
      "source": [
        "from google.colab import drive\n",
        "drive.mount('/content/drive')"
      ],
      "execution_count": 1,
      "outputs": [
        {
          "output_type": "stream",
          "text": [
            "Drive already mounted at /content/drive; to attempt to forcibly remount, call drive.mount(\"/content/drive\", force_remount=True).\n"
          ],
          "name": "stdout"
        }
      ]
    },
    {
      "cell_type": "code",
      "metadata": {
        "colab": {
          "base_uri": "https://localhost:8080/"
        },
        "id": "bOXdbGiIT5jv",
        "outputId": "62cf9410-b402-4472-a2a7-cdf163c379f0"
      },
      "source": [
        "cd/content/drive/MyDrive"
      ],
      "execution_count": 2,
      "outputs": [
        {
          "output_type": "stream",
          "text": [
            "/content/drive/MyDrive\n"
          ],
          "name": "stdout"
        }
      ]
    },
    {
      "cell_type": "code",
      "metadata": {
        "colab": {
          "base_uri": "https://localhost:8080/"
        },
        "id": "y2UCiuD_URp9",
        "outputId": "97767814-c3cb-48bd-df3e-19e739c8ff3f"
      },
      "source": [
        "ls"
      ],
      "execution_count": 3,
      "outputs": [
        {
          "output_type": "stream",
          "text": [
            "'ALDO SYAFRIO_1101184312_UTS_SKO.pdf'\n",
            " \u001b[0m\u001b[01;34mClassroom\u001b[0m/\n",
            "\u001b[01;34m'Colab Notebooks'\u001b[0m/\n",
            "'Getting started.pdf'\n",
            "'KARTU UJIAN ALDO SYAFRIO.pdf'\n",
            "'LA_GELADI2020_7_1101184312_ALDO SYAFRIO.pdf'\n",
            "'LH_GELADI2020_1_1101184312_ALDO SYAFRIO.pdf'\n",
            "'LH_GELADI2020_2_1101184312_ALDO SYAFRIO.pdf'\n",
            "'LH_GELADI2020_3_1101184312_ALDO SYAFRIO.pdf'\n",
            "'LH_GELADI2020_4_1101184312_ALDO SYAFRIO.pdf'\n",
            "'LH_GELADI2020_5_1101184312_ALDO SYAFRIO.pdf'\n",
            "'LH_GELADI2020_6_1101184312_ALDO SYAFRIO.pdf'\n",
            "\u001b[01;34m'TUBES PYTHON'\u001b[0m/\n",
            "'WhatsApp Image 2020-09-12 at 19.17.18.jpeg'\n"
          ],
          "name": "stdout"
        }
      ]
    },
    {
      "cell_type": "code",
      "metadata": {
        "id": "YSRPIr-iUoi-"
      },
      "source": [
        "# import the necessary packages\n",
        "\n",
        "from keras.models import Sequential\n",
        "from keras.layers.core import Activation\n",
        "from keras.layers.core import Flatten\n",
        "from keras.layers.core import Dense \n",
        "from keras.optimizers import Adam\n",
        "from sklearn.preprocessing import LabelBinarizer\n",
        "from sklearn.model_selection import train_test_split\n",
        "from sklearn.metrics import classification_report\n",
        "from PIL import Image\n",
        "from imutils import paths \n",
        "import numpy as np\n",
        "import os"
      ],
      "execution_count": 4,
      "outputs": []
    },
    {
      "cell_type": "code",
      "metadata": {
        "colab": {
          "base_uri": "https://localhost:8080/"
        },
        "id": "MpYsFI-mU6xe",
        "outputId": "74434e50-1e05-4ad0-ba23-337ae8a74579"
      },
      "source": [
        "# grab all image paths in the input dataset directory, then initialize\n",
        "\n",
        "# our list of images and corresponding class labels \n",
        "print(\"[INFO] loading images...\")\n",
        "imagePaths = paths.list_images(\"Classroom\") \n",
        "data = []\n",
        "labels = []"
      ],
      "execution_count": 5,
      "outputs": [
        {
          "output_type": "stream",
          "text": [
            "[INFO] loading images...\n"
          ],
          "name": "stdout"
        }
      ]
    },
    {
      "cell_type": "code",
      "metadata": {
        "id": "6DN-FDJJpob2"
      },
      "source": [
        "# loop over our input images\n",
        "for imagePath in imagePaths:\n",
        "  # load the input image from disk, resize it to 64x64 pixels, scale \n",
        "  # the pixel intensities to the range [0, 1], and then update our\n",
        "  # images list\n",
        "  image = Image.open(imagePath)\n",
        "  image = np.array(image.resize((64, 64))) / 255.0 #normalisasi\n",
        "  data.append(image)\n",
        "\n",
        "  # extract the class label from the file path and update the\n",
        "  # labels list\n",
        "  label = imagePath.split(os.path. sep)[-2] \n",
        "  labels.append(label)"
      ],
      "execution_count": 6,
      "outputs": []
    },
    {
      "cell_type": "code",
      "metadata": {
        "colab": {
          "base_uri": "https://localhost:8080/"
        },
        "id": "_6q9plwep9me",
        "outputId": "bd9dac4c-e2a6-4987-a5e2-bfc8a5ffb61f"
      },
      "source": [
        "print(labels)"
      ],
      "execution_count": 7,
      "outputs": [
        {
          "output_type": "stream",
          "text": [
            "['TT-42-05 Pengolahan Sinyal Waktu Kontinyu', 'TT-42-05 Pengolahan Sinyal Waktu Kontinyu']\n"
          ],
          "name": "stdout"
        }
      ]
    },
    {
      "cell_type": "code",
      "metadata": {
        "id": "fTjcGRIdqQAe"
      },
      "source": [
        "# encode the labels, converting them from strings to integers \n",
        "lb = LabelBinarizer()\n",
        "labels = lb.fit_transform(labels)"
      ],
      "execution_count": 8,
      "outputs": []
    },
    {
      "cell_type": "code",
      "metadata": {
        "id": "eBBgNBbiDKap",
        "colab": {
          "base_uri": "https://localhost:8080/"
        },
        "outputId": "06c36f88-0f9e-4c82-f17b-aca1d72b1bc9"
      },
      "source": [
        "print(labels) "
      ],
      "execution_count": 9,
      "outputs": [
        {
          "output_type": "stream",
          "text": [
            "[[0]\n",
            " [0]]\n"
          ],
          "name": "stdout"
        }
      ]
    },
    {
      "cell_type": "code",
      "metadata": {
        "id": "6pkMIjwLDTPX",
        "colab": {
          "base_uri": "https://localhost:8080/"
        },
        "outputId": "f4ab1b20-5ee2-4607-ca01-c2f2ac8c55a4"
      },
      "source": [
        "# perform a troining and testing split, using 75% of the data for \n",
        "# training and 25% for evaluation\n",
        "\n",
        "(trainX, testX, trainY, testY) = train_test_split(np.array(data), np.array(labels), test_size=0.25, shuffle=True)\n",
        "print(trainX.shape)\n",
        "print(testX.shape)"
      ],
      "execution_count": 10,
      "outputs": [
        {
          "output_type": "stream",
          "text": [
            "(1, 64, 64, 3)\n",
            "(1, 64, 64, 3)\n"
          ],
          "name": "stdout"
        }
      ]
    },
    {
      "cell_type": "code",
      "metadata": {
        "id": "xKk9huRNOlRQ"
      },
      "source": [
        "from keras.models import Sequential\n",
        "from keras.layers.core import Flatten\n",
        "from keras.layers.core import Dense\n",
        "\n",
        "model = Sequential (\n",
        "    [\n",
        "        Flatten(input_shape=(64*64*3,)),\n",
        "        Dense(100, activation=\"relu\", name=\"layer1\"),\n",
        "        Dense(16, activation=\"relu\", name=\"layer2\"),\n",
        "        Dense(16, activation=\"relu\", name=\"layer3\"),\n",
        "        Dense(3, activation = \"softmax\", name=\"layer4\"),\n",
        "    ]\n",
        ")"
      ],
      "execution_count": 11,
      "outputs": []
    },
    {
      "cell_type": "code",
      "metadata": {
        "id": "sRRpu8sPOxC3",
        "colab": {
          "base_uri": "https://localhost:8080/"
        },
        "outputId": "02d3b716-f9d5-4d90-876c-baed9836acaf"
      },
      "source": [
        "model.summary()"
      ],
      "execution_count": 12,
      "outputs": [
        {
          "output_type": "stream",
          "text": [
            "Model: \"sequential\"\n",
            "_________________________________________________________________\n",
            "Layer (type)                 Output Shape              Param #   \n",
            "=================================================================\n",
            "flatten (Flatten)            (None, 12288)             0         \n",
            "_________________________________________________________________\n",
            "layer1 (Dense)               (None, 100)               1228900   \n",
            "_________________________________________________________________\n",
            "layer2 (Dense)               (None, 16)                1616      \n",
            "_________________________________________________________________\n",
            "layer3 (Dense)               (None, 16)                272       \n",
            "_________________________________________________________________\n",
            "layer4 (Dense)               (None, 3)                 51        \n",
            "=================================================================\n",
            "Total params: 1,230,839\n",
            "Trainable params: 1,230,839\n",
            "Non-trainable params: 0\n",
            "_________________________________________________________________\n"
          ],
          "name": "stdout"
        }
      ]
    },
    {
      "cell_type": "code",
      "metadata": {
        "id": "uR2qKIa2Oz0-"
      },
      "source": [
        "# train the model using the adam optimizer\n",
        "print(\"[INFO] training network…\")\n",
        "opt = Adam(lr=1e-3, decay=1e-3 / 50)\n",
        "model.compile(loss=\"categorical_crossentropy\", optimizer=opt, metrics=[\"accuracy\"])\n",
        "H = model.fit(trainX, trainY, validation_data = (testX, testY), epochs=25, batch_size=32)"
      ],
      "execution_count": null,
      "outputs": []
    },
    {
      "cell_type": "code",
      "metadata": {
        "id": "wY9KdXNKPC3g"
      },
      "source": [
        "import matplotlib.pyplot as plt\n",
        "\n",
        "print(H.history.keys()) \n",
        "# summarize history for accuracy\n",
        "plt.plot(H.history['accuracy']) \n",
        "plt.plot(H.history['val_accuracy'])\n",
        "plt.title('model accuracy') \n",
        "plt.ylabel('accuracy')\n",
        "plt.xlabel('epoch') \n",
        "plt.legend(['train', 'test'], loc='upper left')\n",
        "plt.show()\n",
        "# summarize history for loss \n",
        "plt.plot(H.history['loss']) \n",
        "plt.plot(H.history['val_loss'])\n",
        "plt.title('model loss')\n",
        "plt.ylabel('loss')\n",
        "plt.xlabel('epoch')\n",
        "plt.legend(['train','test'], loc='upper left')\n",
        "plt.show()"
      ],
      "execution_count": null,
      "outputs": []
    },
    {
      "cell_type": "code",
      "metadata": {
        "id": "TG1LJTFoPG5Q"
      },
      "source": [
        "# evaluate the network\n",
        "\n",
        "print(\"[INFO] evaluating network...\") \n",
        "predictions = model.predict(testX, batch_size=32) \n",
        "print(classification_report(testY.argmax (axis=1),\n",
        "  predictions.argmax(axis=1), target_names=lb.classes_))"
      ],
      "execution_count": null,
      "outputs": []
    },
    {
      "cell_type": "code",
      "metadata": {
        "id": "xKhdS-4Q8SEc"
      },
      "source": [
        "model.save('model_scene')"
      ],
      "execution_count": null,
      "outputs": []
    },
    {
      "cell_type": "code",
      "metadata": {
        "id": "YhQLUhaD8S4c"
      },
      "source": [
        "import cv2\r\n",
        "import matplotlib.pyplot as plt\r\n",
        "image1='PUBG.jpg'"
      ],
      "execution_count": null,
      "outputs": []
    },
    {
      "cell_type": "code",
      "metadata": {
        "id": "WjR1tajZ9PuC"
      },
      "source": [
        "img_array = cv2.imread(image1)\r\n",
        "plt.imshow(img_array)\r\n",
        "plt.show()\r\n",
        "# print(type(img_array))"
      ],
      "execution_count": null,
      "outputs": []
    },
    {
      "cell_type": "code",
      "metadata": {
        "id": "2W2KDG649QkM"
      },
      "source": [
        "image_testing = Image.open ('Rio Ananta.jpg')\r\n",
        "image_testing = np.array(image_testing.resize((64,64))) / 255.0\r\n",
        "image_testing.shape"
      ],
      "execution_count": null,
      "outputs": []
    },
    {
      "cell_type": "code",
      "metadata": {
        "id": "to3aeo_G9ZnC"
      },
      "source": [
        "image_testing = np.expand_dims(image_testing, axis=0)\r\n",
        "print(image_testing.shape)"
      ],
      "execution_count": null,
      "outputs": []
    },
    {
      "cell_type": "code",
      "metadata": {
        "id": "lp5R1ChE9cjs"
      },
      "source": [
        "output = model.predict(image_testing, 1)\r\n",
        "print(output)\r\n",
        "print(lb.classes_[output.argmax(axis=1)])"
      ],
      "execution_count": null,
      "outputs": []
    }
  ]
}