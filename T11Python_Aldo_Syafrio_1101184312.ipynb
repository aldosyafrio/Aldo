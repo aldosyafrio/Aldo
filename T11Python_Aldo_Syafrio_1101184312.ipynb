{
  "nbformat": 4,
  "nbformat_minor": 0,
  "metadata": {
    "colab": {
      "name": "T11Python_Aldo Syafrio_1101184312",
      "provenance": [],
      "collapsed_sections": [],
      "mount_file_id": "1YVtDa5WJkeeQ6X8opZIOPjc6kHFUDQk7",
      "authorship_tag": "ABX9TyPwMDf9gZDKskncCBYKPWaz",
      "include_colab_link": true
    },
    "kernelspec": {
      "name": "python3",
      "display_name": "Python 3"
    }
  },
  "cells": [
    {
      "cell_type": "markdown",
      "metadata": {
        "id": "view-in-github",
        "colab_type": "text"
      },
      "source": [
        "<a href=\"https://colab.research.google.com/github/aldosyafrio/Aldo/blob/main/T11Python_Aldo_Syafrio_1101184312.ipynb\" target=\"_parent\"><img src=\"https://colab.research.google.com/assets/colab-badge.svg\" alt=\"Open In Colab\"/></a>"
      ]
    },
    {
      "cell_type": "code",
      "metadata": {
        "colab": {
          "base_uri": "https://localhost:8080/"
        },
        "id": "FXW7uVS8dHsu",
        "outputId": "00e53fee-605f-4584-ccac-7bd3bca2a081"
      },
      "source": [
        "from google.colab import drive\r\n",
        "drive.mount('/content/drive')"
      ],
      "execution_count": 2,
      "outputs": [
        {
          "output_type": "stream",
          "text": [
            "Drive already mounted at /content/drive; to attempt to forcibly remount, call drive.mount(\"/content/drive\", force_remount=True).\n"
          ],
          "name": "stdout"
        }
      ]
    },
    {
      "cell_type": "code",
      "metadata": {
        "colab": {
          "base_uri": "https://localhost:8080/"
        },
        "id": "kK3W4ZT3xx1w",
        "outputId": "67ee74c9-7fb0-4394-c70b-6f68b275edad"
      },
      "source": [
        "cd/content/drive/MyDrive/Colab Notebooks"
      ],
      "execution_count": 3,
      "outputs": [
        {
          "output_type": "stream",
          "text": [
            "/content/drive/MyDrive/Colab Notebooks\n"
          ],
          "name": "stdout"
        }
      ]
    },
    {
      "cell_type": "code",
      "metadata": {
        "colab": {
          "base_uri": "https://localhost:8080/"
        },
        "id": "lfJ590kNx2QB",
        "outputId": "66a4adef-b3e2-4eae-a14e-d8bf34574440"
      },
      "source": [
        "ls"
      ],
      "execution_count": 4,
      "outputs": [
        {
          "output_type": "stream",
          "text": [
            " \u001b[0m\u001b[01;34mAldo\u001b[0m/\n",
            " \u001b[01;34mmodel_scene\u001b[0m/\n",
            "'T10Python_Aldo Syafrio_1101184312.ipynb'\n",
            "'T11Python_Aldo Syafrio_1101184312.ipynb'\n",
            "'T12Python_ALDO SYAFRIO_1101184312.ipynb'\n",
            " Untitled0.ipynb\n",
            " Untitled1.ipynb\n"
          ],
          "name": "stdout"
        }
      ]
    },
    {
      "cell_type": "code",
      "metadata": {
        "id": "QpXEKlhiyD5X"
      },
      "source": [
        "# import the necessary packages\r\n",
        "\r\n",
        "from keras.models import Sequential\r\n",
        "from keras.layers.core import Activation\r\n",
        "from keras.layers.core import Flatten\r\n",
        "from keras.layers.core import Dense \r\n",
        "from keras.optimizers import Adam\r\n",
        "from sklearn.preprocessing import LabelBinarizer\r\n",
        "from sklearn.model_selection import train_test_split\r\n",
        "from sklearn.metrics import classification_report\r\n",
        "from PIL import Image\r\n",
        "from imutils import paths \r\n",
        "import numpy as np\r\n",
        "import os"
      ],
      "execution_count": 5,
      "outputs": []
    },
    {
      "cell_type": "code",
      "metadata": {
        "colab": {
          "base_uri": "https://localhost:8080/"
        },
        "id": "ykFVpLeryGLn",
        "outputId": "e6a72fce-3fb3-475d-f871-9775c3e78282"
      },
      "source": [
        "# grab all image paths in the input dataset directory, then initialize\r\n",
        "\r\n",
        "# our list of images and corresponding class labels \r\n",
        "print(\"[INFO] loading images...\")\r\n",
        "imagePaths = paths.list_images(\"Aldo\")\r\n",
        "data = []\r\n",
        "labels = []"
      ],
      "execution_count": 6,
      "outputs": [
        {
          "output_type": "stream",
          "text": [
            "[INFO] loading images...\n"
          ],
          "name": "stdout"
        }
      ]
    },
    {
      "cell_type": "code",
      "metadata": {
        "id": "6utK8n4pyIGQ"
      },
      "source": [
        "# loop over our input images\r\n",
        "\r\n",
        "for imagePath in imagePaths:\r\n",
        "  # load the input image from disk, resize it to 64x64 pixels, scale \r\n",
        "  # the pixel intensities to the range [0, 1], and then update our\r\n",
        "  # images list\r\n",
        "  image = Image.open(imagePath)\r\n",
        "  #preprocessing\r\n",
        "  image = np.array(image.resize((128, 128))) / 255.0\r\n",
        "  data.append(image)\r\n",
        "\r\n",
        "  # extract the class label from the file path and update the\r\n",
        "  # labels list\r\n",
        "  label = imagePath.split(os.path. sep)[-2] \r\n",
        "  labels.append(label)"
      ],
      "execution_count": 7,
      "outputs": []
    },
    {
      "cell_type": "code",
      "metadata": {
        "colab": {
          "base_uri": "https://localhost:8080/"
        },
        "id": "SM58pgPPyKog",
        "outputId": "3e0dffdf-5e59-49c3-ac10-82b962875518"
      },
      "source": [
        "print(labels)"
      ],
      "execution_count": 8,
      "outputs": [
        {
          "output_type": "stream",
          "text": [
            "['dataset@', 'Pic (2)', 'Pic (2)', 'Pic (2)', 'Pic (2)', 'Pic (2)', 'Pic (2)', 'Pic (2)', 'Pic (2)', 'Pic (2)', 'Pic (2)', 'Pic (2)', 'Pic (2)', 'Pic (2)', 'Pic (2)', 'Pic (2)', 'Pic (1)', 'Pic (1)', 'Pic (1)', 'Pic (1)', 'Pic (1)', 'Pic (1)', 'Pic (1)', 'Pic (1)', 'Pic (1)', 'Pic (1)', 'Pic (1)', 'Pic (1)', 'Pic (1)', 'Pic (1)', 'Pic (1)', 'Pic (1)', 'Pic (1)', 'Pic (1)', 'Pic (1)', 'Pic', 'Pic', 'Pic', 'Pic', 'Pic', 'Pic', 'Pic', 'Pic', 'Pic', 'Pic', 'Pic', 'Pic', 'Pic', 'Pic', 'Pic', 'Pic']\n"
          ],
          "name": "stdout"
        }
      ]
    },
    {
      "cell_type": "code",
      "metadata": {
        "id": "78ZVn5EcyNgw"
      },
      "source": [
        "# encode the labels, converting them from strings to integers \r\n",
        "lb = LabelBinarizer()\r\n",
        "labels = lb.fit_transform(labels)"
      ],
      "execution_count": 9,
      "outputs": []
    },
    {
      "cell_type": "code",
      "metadata": {
        "colab": {
          "base_uri": "https://localhost:8080/"
        },
        "id": "hdIOAhSxyPwH",
        "outputId": "bbd49fb9-f113-43eb-c8c6-a2623e7e53a9"
      },
      "source": [
        "print(labels)"
      ],
      "execution_count": 10,
      "outputs": [
        {
          "output_type": "stream",
          "text": [
            "[[0 0 0 1]\n",
            " [0 0 1 0]\n",
            " [0 0 1 0]\n",
            " [0 0 1 0]\n",
            " [0 0 1 0]\n",
            " [0 0 1 0]\n",
            " [0 0 1 0]\n",
            " [0 0 1 0]\n",
            " [0 0 1 0]\n",
            " [0 0 1 0]\n",
            " [0 0 1 0]\n",
            " [0 0 1 0]\n",
            " [0 0 1 0]\n",
            " [0 0 1 0]\n",
            " [0 0 1 0]\n",
            " [0 0 1 0]\n",
            " [0 1 0 0]\n",
            " [0 1 0 0]\n",
            " [0 1 0 0]\n",
            " [0 1 0 0]\n",
            " [0 1 0 0]\n",
            " [0 1 0 0]\n",
            " [0 1 0 0]\n",
            " [0 1 0 0]\n",
            " [0 1 0 0]\n",
            " [0 1 0 0]\n",
            " [0 1 0 0]\n",
            " [0 1 0 0]\n",
            " [0 1 0 0]\n",
            " [0 1 0 0]\n",
            " [0 1 0 0]\n",
            " [0 1 0 0]\n",
            " [0 1 0 0]\n",
            " [0 1 0 0]\n",
            " [0 1 0 0]\n",
            " [1 0 0 0]\n",
            " [1 0 0 0]\n",
            " [1 0 0 0]\n",
            " [1 0 0 0]\n",
            " [1 0 0 0]\n",
            " [1 0 0 0]\n",
            " [1 0 0 0]\n",
            " [1 0 0 0]\n",
            " [1 0 0 0]\n",
            " [1 0 0 0]\n",
            " [1 0 0 0]\n",
            " [1 0 0 0]\n",
            " [1 0 0 0]\n",
            " [1 0 0 0]\n",
            " [1 0 0 0]\n",
            " [1 0 0 0]]\n"
          ],
          "name": "stdout"
        }
      ]
    },
    {
      "cell_type": "code",
      "metadata": {
        "id": "QiR2_ElsyR9H",
        "colab": {
          "base_uri": "https://localhost:8080/"
        },
        "outputId": "177ec4ca-dff2-4c71-c8ff-fb0bb672db43"
      },
      "source": [
        "# perform a troining and testing split, using 75% of the data for \r\n",
        "# training and 25% for evaluation\r\n",
        "\r\n",
        "(trainX, testX, trainY, testY) = train_test_split(np.array(data), np.array(labels), test_size=0.25, shuffle=True)\r\n",
        "print(trainX.shape)\r\n",
        "print(testX.shape)"
      ],
      "execution_count": 11,
      "outputs": [
        {
          "output_type": "stream",
          "text": [
            "(38, 128, 128, 3)\n",
            "(13, 128, 128, 3)\n"
          ],
          "name": "stdout"
        }
      ]
    },
    {
      "cell_type": "code",
      "metadata": {
        "id": "AbdSRr3IyU6g",
        "colab": {
          "base_uri": "https://localhost:8080/"
        },
        "outputId": "a4908513-a25d-468f-f4af-d1275cda1460"
      },
      "source": [
        "from keras.layers import Convolution2D, MaxPooling2D\r\n",
        "from keras.models import Sequential\r\n",
        "from keras.layers.core import Flatten, Dense\r\n",
        "\r\n",
        "model1 = Sequential()\r\n",
        "model1.add(Convolution2D(8, (3,3), activation='relu', input_shape=(128,128,3)))\r\n",
        "model1.add(MaxPooling2D(2,2))\r\n",
        "model1.add(Convolution2D(16, (3,3), activation='relu'))\r\n",
        "model1.add(MaxPooling2D(2,2))\r\n",
        "#fully connected layer\r\n",
        "model1.add(Flatten())\r\n",
        "model1.add(Dense(100, activation='relu'))\r\n",
        "model1.add(Dense(5, activation='softmax'))\r\n",
        "\r\n",
        "model1.summary()"
      ],
      "execution_count": 12,
      "outputs": [
        {
          "output_type": "stream",
          "text": [
            "Model: \"sequential\"\n",
            "_________________________________________________________________\n",
            "Layer (type)                 Output Shape              Param #   \n",
            "=================================================================\n",
            "conv2d (Conv2D)              (None, 126, 126, 8)       224       \n",
            "_________________________________________________________________\n",
            "max_pooling2d (MaxPooling2D) (None, 63, 63, 8)         0         \n",
            "_________________________________________________________________\n",
            "conv2d_1 (Conv2D)            (None, 61, 61, 16)        1168      \n",
            "_________________________________________________________________\n",
            "max_pooling2d_1 (MaxPooling2 (None, 30, 30, 16)        0         \n",
            "_________________________________________________________________\n",
            "flatten (Flatten)            (None, 14400)             0         \n",
            "_________________________________________________________________\n",
            "dense (Dense)                (None, 100)               1440100   \n",
            "_________________________________________________________________\n",
            "dense_1 (Dense)              (None, 5)                 505       \n",
            "=================================================================\n",
            "Total params: 1,441,997\n",
            "Trainable params: 1,441,997\n",
            "Non-trainable params: 0\n",
            "_________________________________________________________________\n"
          ],
          "name": "stdout"
        }
      ]
    },
    {
      "cell_type": "code",
      "metadata": {
        "id": "Ae3vSmBwyZgC",
        "colab": {
          "base_uri": "https://localhost:8080/"
        },
        "outputId": "5bc555c6-a045-47f0-99f0-08b78a2e75a0"
      },
      "source": [
        "# train the model using the Adam optimizer\r\n",
        "print(\"[INFO] training network...\")\r\n",
        "opt = Adam(lr=1e-3, decay=1e-3 / 50)\r\n",
        "model1.compile(loss=\"categorical_crossentropy\", optimizer=opt, metrics=[\"accuracy\"])"
      ],
      "execution_count": 13,
      "outputs": [
        {
          "output_type": "stream",
          "text": [
            "[INFO] training network...\n"
          ],
          "name": "stdout"
        }
      ]
    },
    {
      "cell_type": "code",
      "metadata": {
        "id": "bQ3Ah5nsybhZ"
      },
      "source": [
        "H = model1.fit(trainX, trainY, validation_data=(testX, testY), epochs=25, batch_size=32)"
      ],
      "execution_count": null,
      "outputs": []
    },
    {
      "cell_type": "code",
      "metadata": {
        "id": "9T0HRGwWyge4"
      },
      "source": [
        "import matplotlib.pyplot as plt\r\n",
        "\r\n",
        "print(H.history.keys()) \r\n",
        "# summarize history for accuracy\r\n",
        "plt.plot(H.history['accuracy']) \r\n",
        "plt.plot(H.history['val_accuracy'])\r\n",
        "plt.title('model accuracy') \r\n",
        "plt.ylabel('accuracy')\r\n",
        "plt.xlabel('epoch') \r\n",
        "plt.legend(['train', 'test'], loc='upper left')\r\n",
        "plt.show()\r\n",
        "# summarize history for loss \r\n",
        "plt.plot(H.history['loss']) \r\n",
        "plt.plot(H.history['val_loss'])\r\n",
        "plt.title('model loss')\r\n",
        "plt.ylabel('loss')\r\n",
        "plt.xlabel('epoch')\r\n",
        "plt.legend(['train','test'], loc='upper left')\r\n",
        "plt.show()"
      ],
      "execution_count": null,
      "outputs": []
    },
    {
      "cell_type": "code",
      "metadata": {
        "id": "00xdOs1eylIP"
      },
      "source": [
        "# evaluate the network\r\n",
        "print(\"[INFO] evaluating network...\") \r\n",
        "predictions = model1.predict(testX, batch_size=32) \r\n",
        "print(classification_report(testY.argmax (axis=1),\r\n",
        "  predictions.argmax(axis=1), target_names=lb.classes_))"
      ],
      "execution_count": null,
      "outputs": []
    },
    {
      "cell_type": "code",
      "metadata": {
        "id": "9UiXXB2pynCA"
      },
      "source": [
        "model1.save('model_scene')"
      ],
      "execution_count": null,
      "outputs": []
    },
    {
      "cell_type": "code",
      "metadata": {
        "id": "X9paB_leypoo"
      },
      "source": [
        "import cv2\r\n",
        "import matplotlib.pyplot as plt\r\n",
        "image1='PUBG.jpg'"
      ],
      "execution_count": 17,
      "outputs": []
    },
    {
      "cell_type": "code",
      "metadata": {
        "id": "zjx0fOG1yrgp"
      },
      "source": [
        "image_testing = Image.open('PUBG.jpg')\r\n",
        "image_testing = np.array(image_testing.resize((128, 128))) / 255.0\r\n",
        "image_testing.shape"
      ],
      "execution_count": null,
      "outputs": []
    },
    {
      "cell_type": "code",
      "metadata": {
        "id": "vg65_PGHytLY"
      },
      "source": [
        "image_testing = np.expand_dims(image_testing, axis=0)\r\n",
        "print(image_testing.shape)"
      ],
      "execution_count": null,
      "outputs": []
    },
    {
      "cell_type": "code",
      "metadata": {
        "id": "KVlj_BiQywax"
      },
      "source": [
        "output = model1.predict(image_testing, 1)\r\n",
        "print(output)\r\n",
        "print(lb.classes_[output.argmax(axis=1)])"
      ],
      "execution_count": null,
      "outputs": []
    }
  ]
}